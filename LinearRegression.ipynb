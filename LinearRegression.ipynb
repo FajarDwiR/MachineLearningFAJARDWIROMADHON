{
 "cells": [
  {
   "cell_type": "markdown",
   "metadata": {},
   "source": [
    "# MACHINE LEARNING"
   ]
  },
  {
   "cell_type": "markdown",
   "metadata": {},
   "source": [
    "### LINEAR REGRESSION"
   ]
  },
  {
   "cell_type": "markdown",
   "metadata": {},
   "source": []
  },
  {
   "cell_type": "markdown",
   "metadata": {},
   "source": [
    "Machine Learning merupakan salah satu cabang ilmu Kecerdasan Buatan (Artificial Intellegence). Machine learning membahas mengenai pembuatan suatu sistem yang dimana komputer belajar dari data yang tersedia."
   ]
  },
  {
   "cell_type": "markdown",
   "metadata": {},
   "source": [
    "Aplikasi Machine Learning :\n",
    "\n",
    "1. Recognition (Pengenalan) : face, object, speech, gait, handwritten <br>\n",
    "2. Detection (Deteksi), identification : object, fraud (credit card), spam email, disease <br>\n",
    "3. Recommender problems (Sistem Rekomendasi) : the most liked movies, products, and etc <br>\n",
    "4. Prediction (Prediksi) : stock prices, housing <br>\n",
    "5. dll"
   ]
  },
  {
   "cell_type": "markdown",
   "metadata": {},
   "source": [
    "Learning :\n",
    "1. Supervised <br>\n",
    "   Terdapat data dan target / label\n",
    "2. Unsupervised <br>\n",
    "   Berupa pengelompokan data / filtering data berdasarkan fitur yang sama"
   ]
  },
  {
   "cell_type": "markdown",
   "metadata": {},
   "source": [
    "## Supervised Learning - Regression"
   ]
  },
  {
   "cell_type": "markdown",
   "metadata": {},
   "source": [
    "Bertujuan untuk prediksi / menghasilkan real value (continuos) yang outputnya belum tentu atau tak terbatas <br><br>"
   ]
  },
  {
   "cell_type": "markdown",
   "metadata": {},
   "source": [
    "### Linear Regression"
   ]
  },
  {
   "cell_type": "markdown",
   "metadata": {},
   "source": [
    "Linear Regression mengasumsikan relasi antara input dan output. Dibagi menjadi 2 jenis, yaitu :\n",
    "![](https://4.bp.blogspot.com/-gNcMdvyWDw0/W5Ukses0RuI/AAAAAAAAFfs/B3LJBD5AkQ0NpwC54IKC06yvdzs58C1CwCLcBGAs/s1600/Capture.PNG)\n",
    "<br>\n",
    "f(x;w) atau y merupakan output yang dihasilkan, x adalah input atau fitur/atribut, dan w merupakan parameter yang akan dicari. w0 disebut juga dengan bias atau intercept. Untuk simple linear regression hanya ada 1 dimensi, sedangkan multiple linear regression memiliki lebih dari 1 dimensi (d dimensi)."
   ]
  },
  {
   "cell_type": "markdown",
   "metadata": {},
   "source": [
    "#### Simple Linear Regression\n",
    "Contohnya adalah prediksi harga rumah berdasarkan luas area. Datanya adalah sebagai berikut :<br>\n",
    "<img style=\"float:left\" src=\"https://4.bp.blogspot.com/-vu8dMOCYFFI/W5UnISjoJWI/AAAAAAAAFf4/FTUY8rFpmDEiVZfRDQj6TwxuZu4vGKxZgCLcBGAs/s1600/Capture.PNG\">"
   ]
  },
  {
   "cell_type": "markdown",
   "metadata": {},
   "source": [
    "<em> Proses Simple Linear Regression </em>"
   ]
  },
  {
   "cell_type": "markdown",
   "metadata": {},
   "source": [
    "- Learning (Pembelajaran)"
   ]
  },
  {
   "cell_type": "code",
   "execution_count": 7,
   "metadata": {},
   "outputs": [
    {
     "data": {
      "text/plain": [
       "LinearRegression(copy_X=True, fit_intercept=True, n_jobs=1, normalize=False)"
      ]
     },
     "execution_count": 7,
     "metadata": {},
     "output_type": "execute_result"
    }
   ],
   "source": [
    "from sklearn.linear_model import LinearRegression\n",
    "X=[[2104],[1416],[1539],[852],[1940]]\n",
    "Y=[[400],[232],[315],[178],[240]]\n",
    "model = LinearRegression()\n",
    "model.fit(X, Y)"
   ]
  },
  {
   "cell_type": "markdown",
   "metadata": {},
   "source": [
    "- Parameter"
   ]
  },
  {
   "cell_type": "code",
   "execution_count": 8,
   "metadata": {},
   "outputs": [
    {
     "name": "stdout",
     "output_type": "stream",
     "text": [
      "[[ 0.13388318]]\n",
      "[ 62.77663135]\n"
     ]
    }
   ],
   "source": [
    "print(model.coef_)\n",
    "print(model.intercept_)"
   ]
  },
  {
   "cell_type": "markdown",
   "metadata": {},
   "source": [
    "- Testing (Uji Coba)"
   ]
  },
  {
   "cell_type": "code",
   "execution_count": 9,
   "metadata": {},
   "outputs": [
    {
     "data": {
      "text/plain": [
       "array([[ 230.13060588]])"
      ]
     },
     "execution_count": 9,
     "metadata": {},
     "output_type": "execute_result"
    }
   ],
   "source": [
    "model.predict(1250)"
   ]
  },
  {
   "cell_type": "markdown",
   "metadata": {},
   "source": [
    "Dari hasil percobaan di atas, didapatkan hasil pencarian parameternya adalah w0 = 0.13388318 dan w1 = 62.77663135. Ketika dilakukan prediksi dengan input luas area (x) = 1250 didapatkan hasil (y) = 230.13060588 <br>\n",
    "Percobaan di atas menggunakan library yang disediakan oleh python. Sedangkan untuk melakukan percobaan menggunakan perhitungan manual, dapat menggunakan rumus berikut :<br>\n",
    "![](https://4.bp.blogspot.com/-Rj-bd7nuRdI/W5UvAH_t4EI/AAAAAAAAFgc/VsWX21sMRKwBvgCFNpFkePHsywa-AfCdwCLcBGAs/s1600/Capture.PNG) <br>\n",
    "Keterangan :\n",
    "1. Rumus [1] digunakan untuk mencari nilai variance / persimpangan\n",
    "2. Rumus [2] digunakan untuk mencari nilai covariance / korelasi\n",
    "3. Rumus [3] digunakan untuk mencari nilai koefisien\n",
    "4. Rumus [4] digunakan untuk mencari nilai intercept\n",
    "<br>"
   ]
  },
  {
   "cell_type": "markdown",
   "metadata": {},
   "source": [
    "#### Multivariate Linear Regression"
   ]
  },
  {
   "attachments": {},
   "cell_type": "markdown",
   "metadata": {},
   "source": [
    "\n",
    "Terdapat cara lain untuk mendapatkan nilai parameter koefisien maupun intercept, yaitu menggunakan <em>Gradient Descent</em>\n",
    "Rumus yang digunakan adalah sebagai berikut : \n",
    "![](https://1.bp.blogspot.com/-72aufmf7PbU/W5Uyt3tDJxI/AAAAAAAAFgo/4bacXyPf6IQ-PfXF4rmmlSsy5PSYBB4xwCLcBGAs/s1600/Capture.PNG)\n",
    "<br> Percobaan menggunakan library python"
   ]
  },
  {
   "cell_type": "code",
   "execution_count": 11,
   "metadata": {},
   "outputs": [
    {
     "name": "stdout",
     "output_type": "stream",
     "text": [
      "[[ 62.77663135]\n",
      " [  0.13388318]]\n"
     ]
    }
   ],
   "source": [
    "from numpy.linalg import inv\n",
    "from numpy import dot, transpose\n",
    "X=[[1,2104],[1,1416],[1,1539],[1,852],[1,1940]]\n",
    "Y=[[400],[232],[315],[178],[240]]\n",
    "print (dot(inv(dot(transpose(X), X)), dot(transpose(X), Y)))"
   ]
  },
  {
   "cell_type": "markdown",
   "metadata": {},
   "source": [
    "Didapatkan nilai parameter koefisien = 62.77663135 dan intercept = 0.13388318"
   ]
  }
 ],
 "metadata": {
  "kernelspec": {
   "display_name": "Python 3",
   "language": "python",
   "name": "python3"
  },
  "language_info": {
   "codemirror_mode": {
    "name": "ipython",
    "version": 3
   },
   "file_extension": ".py",
   "mimetype": "text/x-python",
   "name": "python",
   "nbconvert_exporter": "python",
   "pygments_lexer": "ipython3",
   "version": "3.6.1"
  }
 },
 "nbformat": 4,
 "nbformat_minor": 2
}
